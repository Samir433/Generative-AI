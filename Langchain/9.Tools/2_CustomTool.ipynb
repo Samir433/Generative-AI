{
 "cells": [
  {
   "cell_type": "code",
   "execution_count": 3,
   "id": "f6a6d47e",
   "metadata": {},
   "outputs": [],
   "source": [
    "from langchain_core.tools import tool"
   ]
  },
  {
   "cell_type": "code",
   "execution_count": 4,
   "id": "0c275e26",
   "metadata": {},
   "outputs": [],
   "source": [
    "@tool\n",
    "def add_numbers(a: int, b: int) -> int:\n",
    "    \"\"\"Add two numbers together.\"\"\"\n",
    "    return a + b"
   ]
  },
  {
   "cell_type": "code",
   "execution_count": 7,
   "id": "e333632f",
   "metadata": {},
   "outputs": [
    {
     "name": "stdout",
     "output_type": "stream",
     "text": [
      "15\n"
     ]
    }
   ],
   "source": [
    "result = add_numbers.invoke({\"a\": 5, \"b\": 10})\n",
    "print(result)  # Output: 15"
   ]
  },
  {
   "cell_type": "code",
   "execution_count": 10,
   "id": "3dcb37e0",
   "metadata": {},
   "outputs": [
    {
     "name": "stdout",
     "output_type": "stream",
     "text": [
      "Tool that can operate on any number of inputs.\n",
      "add_numbers\n",
      "Add two numbers together.\n",
      "<class 'langchain_core.utils.pydantic.add_numbers'>\n",
      "{'a': {'title': 'A', 'type': 'integer'}, 'b': {'title': 'B', 'type': 'integer'}}\n"
     ]
    }
   ],
   "source": [
    "print(add_numbers.__doc__)  # Output: Add two numbers together.\n",
    "print(add_numbers.name)  # Output: add_numbers\n",
    "print(add_numbers.description)  # Output: Add two numbers together. \n",
    "print(add_numbers.input_schema)  # Output: {'a': <class 'int'>, 'b': <class 'int'>}\n",
    "print(add_numbers.args)"
   ]
  },
  {
   "cell_type": "code",
   "execution_count": 11,
   "id": "7344ac33",
   "metadata": {},
   "outputs": [
    {
     "name": "stdout",
     "output_type": "stream",
     "text": [
      "{'description': 'Add two numbers together.', 'properties': {'a': {'title': 'A', 'type': 'integer'}, 'b': {'title': 'B', 'type': 'integer'}}, 'required': ['a', 'b'], 'title': 'add_numbers', 'type': 'object'}\n"
     ]
    }
   ],
   "source": [
    "print(add_numbers.args_schema.model_json_schema())  # Output: JSON schema of the input arguments"
   ]
  }
 ],
 "metadata": {
  "kernelspec": {
   "display_name": "venv (3.10.4)",
   "language": "python",
   "name": "python3"
  },
  "language_info": {
   "codemirror_mode": {
    "name": "ipython",
    "version": 3
   },
   "file_extension": ".py",
   "mimetype": "text/x-python",
   "name": "python",
   "nbconvert_exporter": "python",
   "pygments_lexer": "ipython3",
   "version": "3.10.4"
  }
 },
 "nbformat": 4,
 "nbformat_minor": 5
}
