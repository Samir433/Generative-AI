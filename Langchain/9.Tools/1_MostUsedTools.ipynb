{
 "cells": [
  {
   "cell_type": "code",
   "execution_count": 3,
   "id": "edc8100d",
   "metadata": {},
   "outputs": [],
   "source": [
    "from langchain_community.tools import DuckDuckGoSearchRun, GoogleSearchResults, WikipediaQueryRun, ShellTool"
   ]
  },
  {
   "cell_type": "code",
   "execution_count": 18,
   "id": "58192f86",
   "metadata": {},
   "outputs": [
    {
     "name": "stderr",
     "output_type": "stream",
     "text": [
      "d:\\GenAI\\venv\\lib\\site-packages\\langchain_community\\utilities\\duckduckgo_search.py:63: RuntimeWarning: This package (`duckduckgo_search`) has been renamed to `ddgs`! Use `pip install ddgs` instead.\n",
      "  with DDGS() as ddgs:\n"
     ]
    },
    {
     "name": "stdout",
     "output_type": "stream",
     "text": [
      "Jun 4, 2025 · Indian Premier League 2025 (IPL) Schedule, Points Table, Final Teams List, News, Venue Details, Series & Player Stats, Expert Analysis, Videos and much more details made … Mar 22, 2025 · IPL | Indian Premier League 2025 Schedule, Match Timings, Venue Details, Upcoming Cricket Matches and Recent Results on Cricbuzz.com May 17, 2025 · According to IPL 2025 Schedule, the 17th season of the Indian Premier League or IPL 2025, will commence on March 22 and conclude on 26 May, 2025. The first match of the … Feb 16, 2025 · Kolkata Knight Riders are set to compete with Royal Challengers Bengaluru in the IPL 2025 opener at Eden Gardens, Kolkata. IPL 2025 will run from March 22 to May 25. Mar 22, 2025 · The official schedule for IPL 2025 includes match dates, venues, timings, and group details. Stay informed about all essential information for the upcoming season.\n"
     ]
    }
   ],
   "source": [
    "web_search = DuckDuckGoSearchRun()\n",
    "\n",
    "result = web_search.invoke(\"IPL 2025?\")\n",
    "print(result)"
   ]
  },
  {
   "cell_type": "code",
   "execution_count": null,
   "id": "90030b90",
   "metadata": {},
   "outputs": [
    {
     "name": "stdout",
     "output_type": "stream",
     "text": [
      "Executing command:\n",
      " ls\n",
      "'ls' is not recognized as an internal or external command,\n",
      "operable program or batch file.\n",
      "\n"
     ]
    },
    {
     "name": "stderr",
     "output_type": "stream",
     "text": [
      "d:\\GenAI\\venv\\lib\\site-packages\\langchain_community\\tools\\shell\\tool.py:33: UserWarning: The shell tool has no safeguards by default. Use at your own risk.\n",
      "  warnings.warn(\n"
     ]
    }
   ],
   "source": [
    "shell_tool = ShellTool()\n",
    "shell_result = shell_tool.invoke(\"\")\n",
    "print(shell_result)"
   ]
  },
  {
   "cell_type": "code",
   "execution_count": 22,
   "id": "a588bebc",
   "metadata": {},
   "outputs": [
    {
     "name": "stdout",
     "output_type": "stream",
     "text": [
      "================================\u001b[1m Human Message \u001b[0m=================================\n",
      "\n",
      "Download the README here and identify the link for LangChain tutorials: https://raw.githubusercontent.com/langchain-ai/langchain/master/README.md\n",
      "==================================\u001b[1m Ai Message \u001b[0m==================================\n",
      "Tool Calls:\n",
      "  terminal (call_hAZSE8UobHMnrd5XOA5UVPeZ)\n",
      " Call ID: call_hAZSE8UobHMnrd5XOA5UVPeZ\n",
      "  Args:\n",
      "    commands: ['curl -o README.md https://raw.githubusercontent.com/langchain-ai/langchain/master/README.md']\n",
      "Executing command:\n",
      " ['curl -o README.md https://raw.githubusercontent.com/langchain-ai/langchain/master/README.md']\n"
     ]
    },
    {
     "name": "stderr",
     "output_type": "stream",
     "text": [
      "d:\\GenAI\\venv\\lib\\site-packages\\langchain_community\\tools\\shell\\tool.py:33: UserWarning: The shell tool has no safeguards by default. Use at your own risk.\n",
      "  warnings.warn(\n"
     ]
    },
    {
     "name": "stdout",
     "output_type": "stream",
     "text": [
      "=================================\u001b[1m Tool Message \u001b[0m=================================\n",
      "Name: terminal\n",
      "\n",
      "  % Total    % Received % Xferd  Average Speed   Time    Time     Time  Current\n",
      "                                 Dload  Upload   Total   Spent    Left  Speed\n",
      "100  5312  100  5312    0     0   1981      0  0:00:02  0:00:02 --:--:--  1985\n",
      "\n",
      "==================================\u001b[1m Ai Message \u001b[0m==================================\n",
      "Tool Calls:\n",
      "  terminal (call_6H2F0Frruy8i3mShxDmCJi2q)\n",
      " Call ID: call_6H2F0Frruy8i3mShxDmCJi2q\n",
      "  Args:\n",
      "    commands: ['findstr /I /C:\"tutorials\" README.md']\n",
      "Executing command:\n",
      " ['findstr /I /C:\"tutorials\" README.md']\n",
      "=================================\u001b[1m Tool Message \u001b[0m=================================\n",
      "Name: terminal\n",
      "\n",
      "- [Tutorials](https://python.langchain.com/docs/tutorials/): Simple walkthroughs with\n",
      "\n"
     ]
    },
    {
     "name": "stderr",
     "output_type": "stream",
     "text": [
      "d:\\GenAI\\venv\\lib\\site-packages\\langchain_community\\tools\\shell\\tool.py:33: UserWarning: The shell tool has no safeguards by default. Use at your own risk.\n",
      "  warnings.warn(\n"
     ]
    },
    {
     "name": "stdout",
     "output_type": "stream",
     "text": [
      "==================================\u001b[1m Ai Message \u001b[0m==================================\n",
      "\n",
      "The link for LangChain tutorials in the README is: https://python.langchain.com/docs/tutorials/\n"
     ]
    }
   ],
   "source": [
    "from langgraph.prebuilt import create_react_agent\n",
    "\n",
    "tools = [shell_tool]\n",
    "agent = create_react_agent(\"openai:gpt-4.1-mini\", tools)\n",
    "\n",
    "input_message = {\n",
    "    \"role\": \"user\",\n",
    "    \"content\": (\n",
    "        \"Download the README here and identify the link for LangChain tutorials: \"\n",
    "        \"https://raw.githubusercontent.com/langchain-ai/langchain/master/README.md\"\n",
    "    ),\n",
    "}\n",
    "\n",
    "for step in agent.stream(\n",
    "    {\"messages\": [input_message]},\n",
    "    stream_mode=\"values\",\n",
    "):\n",
    "    step[\"messages\"][-1].pretty_print()"
   ]
  },
  {
   "cell_type": "code",
   "execution_count": null,
   "id": "0ad89fa6",
   "metadata": {},
   "outputs": [],
   "source": []
  }
 ],
 "metadata": {
  "kernelspec": {
   "display_name": "venv (3.10.4)",
   "language": "python",
   "name": "python3"
  },
  "language_info": {
   "codemirror_mode": {
    "name": "ipython",
    "version": 3
   },
   "file_extension": ".py",
   "mimetype": "text/x-python",
   "name": "python",
   "nbconvert_exporter": "python",
   "pygments_lexer": "ipython3",
   "version": "3.10.4"
  }
 },
 "nbformat": 4,
 "nbformat_minor": 5
}
