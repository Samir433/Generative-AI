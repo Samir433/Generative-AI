{
 "cells": [
  {
   "cell_type": "code",
   "execution_count": 1,
   "id": "823afb65",
   "metadata": {},
   "outputs": [],
   "source": [
    "from langchain_community.retrievers import WikipediaRetriever"
   ]
  },
  {
   "cell_type": "code",
   "execution_count": 2,
   "id": "7137cbc4",
   "metadata": {},
   "outputs": [],
   "source": [
    "# Initialize the retriever (optional: set language and top_k)\n",
    "retriever = WikipediaRetriever(top_k_results=2, lang=\"en\")"
   ]
  },
  {
   "cell_type": "code",
   "execution_count": 3,
   "id": "b676e0e9",
   "metadata": {},
   "outputs": [],
   "source": [
    "\n",
    "# Define your query\n",
    "query = \"the geopolitical history of india and pakistan from the perspective of a chinese\"\n",
    "\n",
    "# Get relevant Wikipedia documents\n",
    "docs = retriever.invoke(query)"
   ]
  },
  {
   "cell_type": "code",
   "execution_count": 4,
   "id": "4675777c",
   "metadata": {},
   "outputs": [
    {
     "name": "stdout",
     "output_type": "stream",
     "text": [
      "\n",
      "--- Result 1 ---\n",
      "Content:\n",
      "This article is about territorial disputes of the People's Republic of China (PRC). A territorial dispute is a disagreement over the possession or control of land between two or more political entities. Many of China's territorial disputes result from the historical consequences of colonialism in Asia and the lack of clear historical boundary demarcations. Many of these disputes are almost identical to those that the Republic of China (ROC) based in Taipei, also known as Taiwan, has with other countries. Therefore, many of the subsequent resolved disputes made by the PRC after 1949 with other governments may not be recognized by the ROC.\n",
      "\n",
      "\n",
      "== Current disputes ==\n",
      "Many of China's territorial disputes result from the historical consequences of colonialism in Asia and the lack of clear historical boundary demarcations.: 251 \n",
      "China's claims to disputed maritime territories date from prior to the founding of the People's Republic of China.: 197 \n",
      "\n",
      "\n",
      "=== Bhutan ===\n",
      "\n",
      "Bhutan's border with Tibet has never been officially recognized, much less demarcated. The Republic of China based in Taiwan officially maintains a territorial claim on parts of Bhutan to this day. The territorial claim was maintained by the People's Republic of China after the Chinese Communist Party took control of mainland China in the Chinese Civil War.\n",
      "The 1959 Tibetan Rebellion and the 14th Dalai Lama's arrival in neighboring India made the security of Bhutan's border with China a necessity for Bhutan. An estimated 6,000 Tibetans fled to Bhutan and were granted asylum, although Bhutan subsequently closed its border to China, fearing more refugees to come. In July 1959, along with the occupation of Tibet, the Chinese People's Liberation Army occupied several Bhutanese exclaves in western Tibet which were under Bhutanese administration for more than 300 years and had been given to Bhutan by Ngawang Namgyal in the 17th century. These included Darchen, Labrang Monastery, Gartok and several smaller monasteries and villages near Mount Kailas.\n",
      "In 1983, the Chinese Foreign Minister Wu Xueqian and Bhutanese Foreign Minister Dawa Tsering held talks on establishing bilateral relations in New York. In 1984, China and Bhutan began annual, direct talks over the border dispute. In 1998, China and Bhutan signed a bilateral agreement for maintaining peace on the border. In the agreement, China affirmed its respect for Bhutan's sovereignty and territorial integrity and both sides sought to build ties based on the Five Principles of Peaceful Co-existence. However, China's building of roads on what Bhutan asserts to be Bhutanese territory, allegedly in violation of the 1998 agreement, has provoked tensions. In 2002, however, China presented what it claimed to be 'evidence', asserting its ownership of disputed tracts of land; after negotiations, an interim agreement was reached.\n",
      "On 11 August 2016 Bhutan Foreign Minister Damcho Dorji visited Beijing, capital of China, for the 24th round of boundary talks with Chinese Vice President Li Yuanchao. Both sides made comments to show their readiness to strengthen co-operations in various fields and hope of settling the boundary issues. In 2024, The New York Times reported that, according to satellite imagery, China had constructed villages inside of disputed territory within Bhutan. Chinese individuals, called \"border guardians,\" received annual subsidies to relocate to newly built villages and paid to conduct border patrols.\n",
      "\n",
      "\n",
      "=== India ===\n",
      "\n",
      "China and India have various territorial disputes. There was one historical attempt to set a proposed boundary, the McMahon Line, by Great Britain during the 1913-1914 Simla Convention.: 251  The Republic of China rejected the proposed boundary.: 251  The unresolved dispute over the boundary became contentious after India gained its independence and the People's Republic of China was established.: 251  The disputed borders are complicated by the lack of administrative presence in the disputed areas, which ar...\n",
      "\n",
      "--- Result 2 ---\n",
      "Content:\n",
      "The United States has been providing military aid and economic assistance to Pakistan for various purposes since 1948. In 2017, the U.S. stopped military aid to Pakistan, which was about US$2 billion per year. With U.S. military assistance suspended in 2018 and civilian aid reduced to about $300 million for 2022, Pakistani authorities have turned to other countries for help.\n",
      "\n",
      "\n",
      "== History ==\n",
      "From 1947 to 1958, under civilian leadership, the United States provided Pakistan with modest economic aid and limited military assistance. During this period, Pakistan became a member of the South East Asian Treaty Organization (SEATO) and the Central Treaty Organization (CENTO), after a Mutual Defence Assistance Agreement signed in May 1954, which facilitated increased levels of both economic and military aid from the U.S.\n",
      "In 1958, Ayub Khan led Pakistan's first military coup, becoming Chief Martial Law Administrator (CMLA) and later President until 1969. During his tenure, the U.S. delivered substantial economic and military aid, despite Pakistan's governance by military regime, and amidst events like the Indo-Pakistani war of 1965.\n",
      "Yahya Khan succeeded Ayub in 1969, holding power during the Indo-Pakistani war of 1971 which led to the secession of East Pakistan and the formation of Bangladesh. Under Yahya, the U.S. provided adequate economic but minimal military aid.\n",
      "Civilian governance of Zulfikar Ali Bhutto resumed from 1971 to 1977, during which the U.S. offered modest economic support and withheld military aid as Pakistan finalized its constitution, establishing a parliamentary democracy.\n",
      "Following another military coup in 1977, Muhammad Zia-ul-Haq led the country. In April 1979, President Jimmy Carter halted all aid, excluding food assistance, due to Pakistan's efforts to establish a uranium enrichment facility, following Symington Amendment. Initial U.S. aid was limited, increasing significantly after geopolitical shifts such as the Soviet invasion of Afghanistan in 1979 and the fall of the Shah of Iran. U.S. sanctions imposed in April 1979 due to Pakistan's nuclear activities were lifted by the end of the year in light of these events.\n",
      "Between 1988 and 1999, under civilian and democratic governments, U.S. aid was low, particularly after the Soviet withdrawal from Afghanistan in 1989. The aid was suspended in the 1990s under President George H. W. Bush, who cited concerns over Pakistan's developing nuclear program. Relations between the two countries deteriorated as the U.S. implemented the Pressler Amendment. This amendment led to severe sanctions against Pakistan, exacerbating economic challenges for the country's nascent civilian government. Consequently, all forms of bilateral aid from the U.S. to Pakistan were halted. The once expansive operations of the U.S. Agency for International Development (USAID) in Pakistan, which had employed over 1,000 staff across the country, were dramatically reduced almost overnight. Further complications arose from U.S. sanctions following Pakistan's nuclear tests in 1998, which were conducted in response to similar tests by India.\n",
      "The return of military rule under Pervez Musharraf from 1999 to 2008 initially saw little U.S. economic or military aid. However, following the September 11, 2001 attacks, all U.S. sanctions were removed, and Pakistan, having aligned with the U.S. in the War on Terror, received substantial increases in both economic and military assistance.\n",
      "On June 16, 2009, the U.S. Senate Foreign Relations Committee passed the Enhanced Partnership with Pakistan Act of 2009, commonly referred to as the Kerry-Lugar Bill. The bipartisan act authorized an annual provision of $1.5 billion in U.S. aid to Pakistan, aimed at fostering enhanced bilateral relations.\n",
      "In 2011, the Obama administration suspended more than one-third of all military assistance, totaling approximately $800 million due to Osama bin Laden-related controversy. This reduction encompassed funds designated for military h...\n"
     ]
    }
   ],
   "source": [
    "# Print retrieved content\n",
    "for i, doc in enumerate(docs):\n",
    "    print(f\"\\n--- Result {i+1} ---\")\n",
    "    print(f\"Content:\\n{doc.page_content}...\")  # truncate for display"
   ]
  },
  {
   "cell_type": "code",
   "execution_count": 5,
   "id": "6840e44a",
   "metadata": {},
   "outputs": [],
   "source": [
    "from langchain_community.vectorstores import Chroma\n",
    "from langchain_huggingface import HuggingFaceEmbeddings\n",
    "from langchain_core.documents import Document"
   ]
  },
  {
   "cell_type": "code",
   "execution_count": 7,
   "id": "b1ec0d9c",
   "metadata": {},
   "outputs": [],
   "source": [
    "embedding_model = HuggingFaceEmbeddings(\n",
    "    model_name=\"sentence-transformers/all-MiniLM-L6-v2\",\n",
    "    cache_folder=\"D:/huggingface_cache\"\n",
    ")"
   ]
  },
  {
   "cell_type": "code",
   "execution_count": 8,
   "id": "ff288ba6",
   "metadata": {},
   "outputs": [],
   "source": [
    "# Step 1: Your source documents\n",
    "documents = [\n",
    "    Document(page_content=\"LangChain helps developers build LLM applications easily.\"),\n",
    "    Document(page_content=\"Chroma is a vector database optimized for LLM-based search.\"),\n",
    "    Document(page_content=\"Embeddings convert text into high-dimensional vectors.\"),\n",
    "    Document(page_content=\"OpenAI provides powerful embedding models.\"),\n",
    "]"
   ]
  },
  {
   "cell_type": "code",
   "execution_count": 9,
   "id": "51a344a5",
   "metadata": {},
   "outputs": [],
   "source": [
    "vectorstore = Chroma.from_documents(\n",
    "    documents=documents,\n",
    "    embedding=embedding_model,\n",
    "    collection_name=\"my_collection\"\n",
    ")"
   ]
  },
  {
   "cell_type": "code",
   "execution_count": 10,
   "id": "a00a49c7",
   "metadata": {},
   "outputs": [],
   "source": [
    "# Step 4: Convert vectorstore into a retriever\n",
    "retriever = vectorstore.as_retriever(search_kwargs={\"k\": 2})"
   ]
  },
  {
   "cell_type": "code",
   "execution_count": 11,
   "id": "bea5d22e",
   "metadata": {},
   "outputs": [],
   "source": [
    "query = \"What is Chroma used for?\"\n",
    "results = retriever.invoke(query)"
   ]
  },
  {
   "cell_type": "code",
   "execution_count": 12,
   "id": "7d606e23",
   "metadata": {},
   "outputs": [
    {
     "name": "stdout",
     "output_type": "stream",
     "text": [
      "\n",
      "--- Result 1 ---\n",
      "Chroma is a vector database optimized for LLM-based search.\n",
      "\n",
      "--- Result 2 ---\n",
      "LangChain helps developers build LLM applications easily.\n"
     ]
    }
   ],
   "source": [
    "for i, doc in enumerate(results):\n",
    "    print(f\"\\n--- Result {i+1} ---\")\n",
    "    print(doc.page_content)"
   ]
  },
  {
   "cell_type": "code",
   "execution_count": 13,
   "id": "f778fd94",
   "metadata": {},
   "outputs": [],
   "source": [
    "results = vectorstore.similarity_search(query, k=2)"
   ]
  },
  {
   "cell_type": "code",
   "execution_count": 14,
   "id": "84e7d6b8",
   "metadata": {},
   "outputs": [
    {
     "name": "stdout",
     "output_type": "stream",
     "text": [
      "\n",
      "--- Result 1 ---\n",
      "Chroma is a vector database optimized for LLM-based search.\n",
      "\n",
      "--- Result 2 ---\n",
      "LangChain helps developers build LLM applications easily.\n"
     ]
    }
   ],
   "source": [
    "for i, doc in enumerate(results):\n",
    "    print(f\"\\n--- Result {i+1} ---\")\n",
    "    print(doc.page_content)"
   ]
  },
  {
   "cell_type": "code",
   "execution_count": null,
   "id": "04ee847d",
   "metadata": {},
   "outputs": [],
   "source": []
  }
 ],
 "metadata": {
  "kernelspec": {
   "display_name": "venv (3.10.4)",
   "language": "python",
   "name": "python3"
  },
  "language_info": {
   "codemirror_mode": {
    "name": "ipython",
    "version": 3
   },
   "file_extension": ".py",
   "mimetype": "text/x-python",
   "name": "python",
   "nbconvert_exporter": "python",
   "pygments_lexer": "ipython3",
   "version": "3.10.4"
  }
 },
 "nbformat": 4,
 "nbformat_minor": 5
}
